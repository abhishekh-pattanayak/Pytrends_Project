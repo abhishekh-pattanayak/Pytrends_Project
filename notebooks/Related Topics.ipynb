{
 "cells": [
  {
   "cell_type": "code",
   "execution_count": null,
   "metadata": {},
   "outputs": [],
   "source": [
    "!pip install pytrends"
   ]
  },
  {
   "cell_type": "code",
   "execution_count": null,
   "metadata": {},
   "outputs": [],
   "source": [
    "!pip install seaborn"
   ]
  },
  {
   "cell_type": "code",
   "execution_count": 1,
   "metadata": {},
   "outputs": [],
   "source": [
    "from pytrends.request import TrendReq\n",
    "import pandas as pd\n",
    "import datetime\n",
    "from matplotlib import pyplot as plt\n",
    "import seaborn as sns\n",
    "import matplotlib.dates as mdates\n",
    "from matplotlib.dates import DateFormatter\n",
    "import json\n",
    "import time"
   ]
  },
  {
   "cell_type": "code",
   "execution_count": 2,
   "metadata": {},
   "outputs": [],
   "source": [
    "timezone_offset = -330 # INDIA\n",
    "# timezone_offset = -480 # Phillipines\n",
    "\n",
    "pytrends = TrendReq(hl='en-US', tz=timezone_offset, retries=10, backoff_factor=0.5)"
   ]
  },
  {
   "cell_type": "code",
   "execution_count": 3,
   "metadata": {},
   "outputs": [
    {
     "name": "stdout",
     "output_type": "stream",
     "text": [
      "Enter a start date in YYYY-MM-DD format: 2019-01-01\n"
     ]
    }
   ],
   "source": [
    "date_entry = input('Enter a start date in YYYY-MM-DD format: ')\n",
    "year, month, day = map(int, date_entry.split('-'))\n",
    "date1 = datetime.date(year, month, day)"
   ]
  },
  {
   "cell_type": "code",
   "execution_count": 4,
   "metadata": {},
   "outputs": [
    {
     "name": "stdout",
     "output_type": "stream",
     "text": [
      "Enter a end date in YYYY-MM-DD format: 2020-02-02\n"
     ]
    }
   ],
   "source": [
    "date_entry = input('Enter a end date in YYYY-MM-DD format: ')\n",
    "year, month, day = map(int, date_entry.split('-'))\n",
    "date2 = datetime.date(year, month, day)"
   ]
  },
  {
   "cell_type": "code",
   "execution_count": 5,
   "metadata": {},
   "outputs": [
    {
     "data": {
      "text/plain": [
       "'2019-01-01 2020-02-02'"
      ]
     },
     "execution_count": 5,
     "metadata": {},
     "output_type": "execute_result"
    }
   ],
   "source": [
    "t_frame = date1.strftime(\"%Y-%m-%d\") + \" \" + date2.strftime(\"%Y-%m-%d\")\n",
    "t_frame"
   ]
  },
  {
   "cell_type": "code",
   "execution_count": 6,
   "metadata": {},
   "outputs": [],
   "source": [
    "cat_df = pd.read_csv(\"categories_defined.csv\")\n",
    "cat_names = cat_df[\"name\"].tolist()\n",
    "cat_ids = cat_df[\"id\"].tolist()"
   ]
  },
  {
   "cell_type": "code",
   "execution_count": 7,
   "metadata": {
    "scrolled": true
   },
   "outputs": [],
   "source": [
    "from pandas.io.json._normalize import nested_to_record\n",
    "\n",
    "def get_related_topics(catno, timeframe):\n",
    "    \"\"\"\n",
    "    Gets related queries\n",
    "    \"\"\"\n",
    "    kw_list = [\"\"]\n",
    "    # Create Pytrend Client\n",
    "    pytrends.build_payload(cat=catno, kw_list=kw_list, timeframe=timeframe, geo=\"PH\")\n",
    "    \n",
    "    # Form Request\n",
    "    related_payload = dict()\n",
    "    request_json = pytrends.related_topics_widget_list[0]\n",
    "    related_payload[\"req\"] = json.dumps(request_json[\"request\"])\n",
    "    related_payload[\"token\"] = request_json[\"token\"]\n",
    "    related_payload[\"tz\"] = pytrends.tz\n",
    "\n",
    "    # Send Request\n",
    "    req_json = pytrends._get_data(\n",
    "        url=TrendReq.RELATED_QUERIES_URL,\n",
    "        method=TrendReq.GET_METHOD,\n",
    "        trim_chars=5,\n",
    "        params=related_payload,\n",
    "    )\n",
    "    \n",
    "    # return req_json\n",
    "    # Tabulate Rising & Top searches.\n",
    "    try:\n",
    "        temp = req_json[\"default\"][\"rankedList\"][0][\"rankedKeyword\"]\n",
    "        top_df = pd.DataFrame([nested_to_record(d, sep='_') for d in temp])[[\"topic_title\", \"topic_type\", \"formattedValue\"]]\n",
    "    except KeyError:\n",
    "        # in case no top queries are found, the lines above will throw a KeyError\n",
    "        top_df = pd.DataFrame(columns=[\"topic_title\", \"topic_type\", \"formattedValue\"])\n",
    "\n",
    "    # rising queries\n",
    "    try:\n",
    "        temp = req_json[\"default\"][\"rankedList\"][1][\"rankedKeyword\"]\n",
    "        rising_df = pd.DataFrame([nested_to_record(d, sep='_') for d in temp])[[\"topic_title\", \"topic_type\", \"formattedValue\"]]\n",
    "    except KeyError:\n",
    "        # in case no rising queries are found, the lines above will throw a KeyError\n",
    "        rising_df = pd.DataFrame(columns=[\"topic_title\", \"topic_type\", \"formattedValue\"])\n",
    "\n",
    "    return(top_df,rising_df)"
   ]
  },
  {
   "cell_type": "code",
   "execution_count": null,
   "metadata": {
    "scrolled": true
   },
   "outputs": [
    {
     "name": "stdout",
     "output_type": "stream",
     "text": [
      "0 277 Alcoholic Beverages\n",
      "1 68 Apparel\n",
      "2 1228 Apparel Services\n",
      "3 983 Athletic Apparel\n",
      "4 1374 Babies & Toddlers\n",
      "Babies & Toddlers has no top queries\n",
      "Babies & Toddlers has no rising queries\n",
      "5 115 Baby Care & Hygiene\n",
      "Baby Care & Hygiene has no top queries\n",
      "Baby Care & Hygiene has no rising queries\n",
      "6 907 Baked Goods\n",
      "7 37 Banking\n",
      "8 1365 Bathroom\n",
      "9 44 Beauty & Fitness\n",
      "10 948 Bed & Bath\n",
      "11 1369 Bedding & Bed Linens\n",
      "Bedding & Bed Linens has no top queries\n",
      "Bedding & Bed Linens has no rising queries\n",
      "12 1366 Bedroom\n",
      "13 1367 Beds & Headboards\n",
      "Beds & Headboards has no top queries\n",
      "Beds & Headboards has no rising queries\n",
      "14 573 Camera & Photo Equipment\n",
      "15 1383 Camera Lenses\n",
      "Camera Lenses has no top queries\n",
      "Camera Lenses has no rising queries\n",
      "16 307 Cameras\n",
      "Cameras has no top queries\n",
      "Cameras has no rising queries\n",
      "17 306 Cameras & Camcorders\n",
      "Cameras & Camcorders has no top queries\n",
      "Cameras & Camcorders has no rising queries\n",
      "18 398 Campaigns & Elections\n",
      "19 1213 Campers & RVs\n",
      "20 429 Cancer\n",
      "21 906 Candy & Sweets\n",
      "22 230 Car Audio\n",
      "Car Audio has no top queries\n",
      "Car Audio has no rising queries\n",
      "23 1188 Car Electronics\n",
      "24 984 Casual Apparel\n",
      "25 985 Children's Clothing\n",
      "26 124 Clothing Accessories\n",
      "27 916 Coffee & Tea\n",
      "28 1178 Commercial & Investment Real Estate\n",
      "29 147 Cosmetology & Beauty Professionals\n",
      "30 646 Drugs & Medications\n",
      "31 340 E-Commerce Services\n",
      "32 1192 Electronic Accessories\n",
      "33 742 Electronic Components\n",
      "34 434 Electronics & Electrical\n",
      "35 94 Fitness\n"
     ]
    }
   ],
   "source": [
    "related_topics = pd.DataFrame()\n",
    "for i in range(len(cat_ids)):\n",
    "    print(i, cat_ids[i], cat_names[i])\n",
    "    if(i%20==0):\n",
    "        time.sleep(20)\n",
    "    rt_top_df, rt_rising_df = get_related_topics(cat_ids[i], timeframe=t_frame)\n",
    "    \n",
    "    if(len(rt_top_df)==0):\n",
    "        print(cat_names[i], \"has no top queries\")\n",
    "    if(len(rt_rising_df)==0):\n",
    "        print(cat_names[i], \"has no rising queries\")\n",
    "\n",
    "    rt_top_df.columns = [\"topic_title\", \"topic_type\", \"subject\"]\n",
    "    rt_rising_df.columns = [\"topic_title\", \"topic_type\", \"subject\"]\n",
    "    \n",
    "    rt_top_df[\"related_topics\"] = \"top\"\n",
    "    rt_rising_df[\"related_topics\"] = \"rising\"\n",
    "    rt_df = rt_rising_df.append(rt_top_df)\n",
    "    \n",
    "    rt_df = rt_top_df.append(rt_rising_df)\n",
    "    \n",
    "    rt_df[\"geo\"] = \"PH\"\n",
    "    rt_df[\"keyword\"] = cat_names[i]\n",
    "    rt_df[\"category\"] = cat_ids[i]\n",
    "    related_topics = related_topics.append(rt_df)"
   ]
  },
  {
   "cell_type": "code",
   "execution_count": 12,
   "metadata": {},
   "outputs": [],
   "source": [
    "related_topics.reset_index().to_csv(\"related_topics.csv\")"
   ]
  },
  {
   "cell_type": "code",
   "execution_count": null,
   "metadata": {},
   "outputs": [],
   "source": []
  },
  {
   "cell_type": "code",
   "execution_count": null,
   "metadata": {},
   "outputs": [],
   "source": []
  },
  {
   "cell_type": "code",
   "execution_count": null,
   "metadata": {},
   "outputs": [],
   "source": []
  }
 ],
 "metadata": {
  "kernelspec": {
   "display_name": "Python 3",
   "language": "python",
   "name": "python3"
  },
  "language_info": {
   "codemirror_mode": {
    "name": "ipython",
    "version": 3
   },
   "file_extension": ".py",
   "mimetype": "text/x-python",
   "name": "python",
   "nbconvert_exporter": "python",
   "pygments_lexer": "ipython3",
   "version": "3.7.4"
  }
 },
 "nbformat": 4,
 "nbformat_minor": 4
}
