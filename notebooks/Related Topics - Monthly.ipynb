{
 "cells": [
  {
   "cell_type": "code",
   "execution_count": null,
   "metadata": {},
   "outputs": [],
   "source": [
    "!pip install pytrends"
   ]
  },
  {
   "cell_type": "code",
   "execution_count": null,
   "metadata": {},
   "outputs": [],
   "source": [
    "!pip install seaborn"
   ]
  },
  {
   "cell_type": "code",
   "execution_count": 4,
   "metadata": {},
   "outputs": [],
   "source": [
    "from pytrends.request import TrendReq\n",
    "import pandas as pd\n",
    "import datetime\n",
    "from matplotlib import pyplot as plt\n",
    "import seaborn as sns\n",
    "import matplotlib.dates as mdates\n",
    "from matplotlib.dates import DateFormatter\n",
    "import json\n",
    "import time"
   ]
  },
  {
   "cell_type": "code",
   "execution_count": 5,
   "metadata": {},
   "outputs": [],
   "source": [
    "timezone_offset = -330 # INDIA\n",
    "# timezone_offset = -480 # Phillipines\n",
    "\n",
    "pytrends = TrendReq(hl='en-US', tz=timezone_offset, retries=10, backoff_factor=0.5)"
   ]
  },
  {
   "cell_type": "code",
   "execution_count": 6,
   "metadata": {},
   "outputs": [
    {
     "name": "stdout",
     "output_type": "stream",
     "text": [
      "Enter a start date in YYYY-MM-DD format: 2020-01-01\n"
     ]
    }
   ],
   "source": [
    "date_entry = input('Enter a start date in YYYY-MM-DD format: ')\n",
    "year, month, day = map(int, date_entry.split('-'))\n",
    "date1 = datetime.date(year, month, day)"
   ]
  },
  {
   "cell_type": "code",
   "execution_count": 7,
   "metadata": {},
   "outputs": [
    {
     "name": "stdout",
     "output_type": "stream",
     "text": [
      "Enter a end date in YYYY-MM-DD format: 2020-03-31\n"
     ]
    }
   ],
   "source": [
    "date_entry = input('Enter a end date in YYYY-MM-DD format: ')\n",
    "year, month, day = map(int, date_entry.split('-'))\n",
    "date2 = datetime.date(year, month, day)"
   ]
  },
  {
   "cell_type": "code",
   "execution_count": 8,
   "metadata": {},
   "outputs": [
    {
     "data": {
      "text/plain": [
       "'2020-01-01 2020-03-31'"
      ]
     },
     "execution_count": 8,
     "metadata": {},
     "output_type": "execute_result"
    }
   ],
   "source": [
    "total_t_frame = date1.strftime(\"%Y-%m-%d\") + \" \" + date2.strftime(\"%Y-%m-%d\")\n",
    "total_t_frame"
   ]
  },
  {
   "cell_type": "code",
   "execution_count": 9,
   "metadata": {},
   "outputs": [],
   "source": [
    "enddates = pd.date_range(date1, date2 , freq='1M').tolist()\n",
    "startdates = pd.to_datetime([x.date() - pd.tseries.offsets.MonthBegin(1) for x in enddates]).tolist()"
   ]
  },
  {
   "cell_type": "code",
   "execution_count": 10,
   "metadata": {},
   "outputs": [],
   "source": [
    "t_frames = []\n",
    "for i in range(len(startdates)):\n",
    "    s = startdates[i].date().strftime(\"%Y-%m-%d\")\n",
    "    e = enddates[i].date().strftime(\"%Y-%m-%d\")\n",
    "    t_frames.append(s + \" \" + e)"
   ]
  },
  {
   "cell_type": "code",
   "execution_count": 11,
   "metadata": {},
   "outputs": [
    {
     "data": {
      "text/plain": [
       "['2020-01-01 2020-01-31', '2020-02-01 2020-02-29', '2020-03-01 2020-03-31']"
      ]
     },
     "execution_count": 11,
     "metadata": {},
     "output_type": "execute_result"
    }
   ],
   "source": [
    "t_frames"
   ]
  },
  {
   "cell_type": "code",
   "execution_count": 12,
   "metadata": {},
   "outputs": [],
   "source": [
    "cat_df = pd.read_csv(\"categories_defined.csv\")\n",
    "cat_names = cat_df[\"name\"].tolist()\n",
    "cat_ids = cat_df[\"id\"].tolist()"
   ]
  },
  {
   "cell_type": "code",
   "execution_count": 14,
   "metadata": {
    "scrolled": true
   },
   "outputs": [],
   "source": [
    "from pandas.io.json._normalize import nested_to_record\n",
    "\n",
    "def get_related_topics(catno, timeframe):\n",
    "    \"\"\"\n",
    "    Gets related queries\n",
    "    \"\"\"\n",
    "    kw_list = [\"\"]\n",
    "    # Create Pytrend Client\n",
    "    pytrends.build_payload(cat=catno, kw_list=kw_list, timeframe=timeframe, geo=\"PH\")\n",
    "    \n",
    "    # Form Request\n",
    "    related_payload = dict()\n",
    "    request_json = pytrends.related_topics_widget_list[0]\n",
    "    related_payload[\"req\"] = json.dumps(request_json[\"request\"])\n",
    "    related_payload[\"token\"] = request_json[\"token\"]\n",
    "    related_payload[\"tz\"] = pytrends.tz\n",
    "\n",
    "    # Send Request\n",
    "    req_json = pytrends._get_data(\n",
    "        url=TrendReq.RELATED_QUERIES_URL,\n",
    "        method=TrendReq.GET_METHOD,\n",
    "        trim_chars=5,\n",
    "        params=related_payload,\n",
    "    )\n",
    "    \n",
    "    # return req_json\n",
    "    # Tabulate Rising & Top searches.\n",
    "    try:\n",
    "        temp = req_json[\"default\"][\"rankedList\"][0][\"rankedKeyword\"]\n",
    "        top_df = pd.DataFrame([nested_to_record(d, sep='_') for d in temp])[[\"topic_title\", \"topic_type\", \"formattedValue\"]]\n",
    "    except KeyError:\n",
    "        # in case no top queries are found, the lines above will throw a KeyError\n",
    "        top_df = pd.DataFrame(columns=[\"topic_title\", \"topic_type\", \"formattedValue\"])\n",
    "\n",
    "    # rising queries\n",
    "    try:\n",
    "        temp = req_json[\"default\"][\"rankedList\"][1][\"rankedKeyword\"]\n",
    "        rising_df = pd.DataFrame([nested_to_record(d, sep='_') for d in temp])[[\"topic_title\", \"topic_type\", \"formattedValue\"]]\n",
    "    except KeyError:\n",
    "        # in case no rising queries are found, the lines above will throw a KeyError\n",
    "        rising_df = pd.DataFrame(columns=[\"topic_title\", \"topic_type\", \"formattedValue\"])\n",
    "\n",
    "    return(top_df,rising_df)"
   ]
  },
  {
   "cell_type": "code",
   "execution_count": 15,
   "metadata": {},
   "outputs": [
    {
     "data": {
      "text/plain": [
       "'Jan-2020'"
      ]
     },
     "execution_count": 15,
     "metadata": {},
     "output_type": "execute_result"
    }
   ],
   "source": [
    "datetime.datetime.strptime(t_frames[0].split()[0], \"%Y-%m-%d\").strftime(\"%b-%Y\")"
   ]
  },
  {
   "cell_type": "code",
   "execution_count": 16,
   "metadata": {
    "scrolled": true
   },
   "outputs": [
    {
     "name": "stdout",
     "output_type": "stream",
     "text": [
      "0 277 Alcoholic Beverages\n"
     ]
    },
    {
     "ename": "ResponseError",
     "evalue": "The request failed: Google returned a response with code 429.",
     "output_type": "error",
     "traceback": [
      "\u001b[0;31m---------------------------------------------------------------------------\u001b[0m",
      "\u001b[0;31mResponseError\u001b[0m                             Traceback (most recent call last)",
      "\u001b[0;32m<ipython-input-16-b831aa3e8cb3>\u001b[0m in \u001b[0;36m<module>\u001b[0;34m\u001b[0m\n\u001b[1;32m     12\u001b[0m             \u001b[0mtime\u001b[0m\u001b[0;34m.\u001b[0m\u001b[0msleep\u001b[0m\u001b[0;34m(\u001b[0m\u001b[0;36m20\u001b[0m\u001b[0;34m)\u001b[0m\u001b[0;34m\u001b[0m\u001b[0;34m\u001b[0m\u001b[0m\n\u001b[1;32m     13\u001b[0m \u001b[0;34m\u001b[0m\u001b[0m\n\u001b[0;32m---> 14\u001b[0;31m         \u001b[0mrt_top_df\u001b[0m\u001b[0;34m,\u001b[0m \u001b[0mrt_rising_df\u001b[0m \u001b[0;34m=\u001b[0m \u001b[0mget_related_topics\u001b[0m\u001b[0;34m(\u001b[0m\u001b[0mcat_ids\u001b[0m\u001b[0;34m[\u001b[0m\u001b[0mi\u001b[0m\u001b[0;34m]\u001b[0m\u001b[0;34m,\u001b[0m \u001b[0mtimeframe\u001b[0m\u001b[0;34m=\u001b[0m\u001b[0mt_frames\u001b[0m\u001b[0;34m[\u001b[0m\u001b[0mj\u001b[0m\u001b[0;34m]\u001b[0m\u001b[0;34m)\u001b[0m\u001b[0;34m\u001b[0m\u001b[0;34m\u001b[0m\u001b[0m\n\u001b[0m\u001b[1;32m     15\u001b[0m \u001b[0;34m\u001b[0m\u001b[0m\n\u001b[1;32m     16\u001b[0m         \u001b[0;32mif\u001b[0m\u001b[0;34m(\u001b[0m\u001b[0mlen\u001b[0m\u001b[0;34m(\u001b[0m\u001b[0mrt_top_df\u001b[0m\u001b[0;34m)\u001b[0m\u001b[0;34m==\u001b[0m\u001b[0;36m0\u001b[0m\u001b[0;34m)\u001b[0m\u001b[0;34m:\u001b[0m\u001b[0;34m\u001b[0m\u001b[0;34m\u001b[0m\u001b[0m\n",
      "\u001b[0;32m<ipython-input-14-b93d3fed89a7>\u001b[0m in \u001b[0;36mget_related_topics\u001b[0;34m(catno, timeframe)\u001b[0m\n\u001b[1;32m      7\u001b[0m     \u001b[0mkw_list\u001b[0m \u001b[0;34m=\u001b[0m \u001b[0;34m[\u001b[0m\u001b[0;34m\"\"\u001b[0m\u001b[0;34m]\u001b[0m\u001b[0;34m\u001b[0m\u001b[0;34m\u001b[0m\u001b[0m\n\u001b[1;32m      8\u001b[0m     \u001b[0;31m# Create Pytrend Client\u001b[0m\u001b[0;34m\u001b[0m\u001b[0;34m\u001b[0m\u001b[0;34m\u001b[0m\u001b[0m\n\u001b[0;32m----> 9\u001b[0;31m     \u001b[0mpytrends\u001b[0m\u001b[0;34m.\u001b[0m\u001b[0mbuild_payload\u001b[0m\u001b[0;34m(\u001b[0m\u001b[0mcat\u001b[0m\u001b[0;34m=\u001b[0m\u001b[0mcatno\u001b[0m\u001b[0;34m,\u001b[0m \u001b[0mkw_list\u001b[0m\u001b[0;34m=\u001b[0m\u001b[0mkw_list\u001b[0m\u001b[0;34m,\u001b[0m \u001b[0mtimeframe\u001b[0m\u001b[0;34m=\u001b[0m\u001b[0mtimeframe\u001b[0m\u001b[0;34m,\u001b[0m \u001b[0mgeo\u001b[0m\u001b[0;34m=\u001b[0m\u001b[0;34m\"PH\"\u001b[0m\u001b[0;34m)\u001b[0m\u001b[0;34m\u001b[0m\u001b[0;34m\u001b[0m\u001b[0m\n\u001b[0m\u001b[1;32m     10\u001b[0m \u001b[0;34m\u001b[0m\u001b[0m\n\u001b[1;32m     11\u001b[0m     \u001b[0;31m# Form Request\u001b[0m\u001b[0;34m\u001b[0m\u001b[0;34m\u001b[0m\u001b[0;34m\u001b[0m\u001b[0m\n",
      "\u001b[0;32m~/anaconda3/lib/python3.7/site-packages/pytrends/request.py\u001b[0m in \u001b[0;36mbuild_payload\u001b[0;34m(self, kw_list, cat, timeframe, geo, gprop)\u001b[0m\n\u001b[1;32m    167\u001b[0m         \u001b[0mself\u001b[0m\u001b[0;34m.\u001b[0m\u001b[0mtoken_payload\u001b[0m\u001b[0;34m[\u001b[0m\u001b[0;34m'req'\u001b[0m\u001b[0;34m]\u001b[0m \u001b[0;34m=\u001b[0m \u001b[0mjson\u001b[0m\u001b[0;34m.\u001b[0m\u001b[0mdumps\u001b[0m\u001b[0;34m(\u001b[0m\u001b[0mself\u001b[0m\u001b[0;34m.\u001b[0m\u001b[0mtoken_payload\u001b[0m\u001b[0;34m[\u001b[0m\u001b[0;34m'req'\u001b[0m\u001b[0;34m]\u001b[0m\u001b[0;34m)\u001b[0m\u001b[0;34m\u001b[0m\u001b[0;34m\u001b[0m\u001b[0m\n\u001b[1;32m    168\u001b[0m         \u001b[0;31m# get tokens\u001b[0m\u001b[0;34m\u001b[0m\u001b[0;34m\u001b[0m\u001b[0;34m\u001b[0m\u001b[0m\n\u001b[0;32m--> 169\u001b[0;31m         \u001b[0mself\u001b[0m\u001b[0;34m.\u001b[0m\u001b[0m_tokens\u001b[0m\u001b[0;34m(\u001b[0m\u001b[0;34m)\u001b[0m\u001b[0;34m\u001b[0m\u001b[0;34m\u001b[0m\u001b[0m\n\u001b[0m\u001b[1;32m    170\u001b[0m         \u001b[0;32mreturn\u001b[0m\u001b[0;34m\u001b[0m\u001b[0;34m\u001b[0m\u001b[0m\n\u001b[1;32m    171\u001b[0m \u001b[0;34m\u001b[0m\u001b[0m\n",
      "\u001b[0;32m~/anaconda3/lib/python3.7/site-packages/pytrends/request.py\u001b[0m in \u001b[0;36m_tokens\u001b[0;34m(self)\u001b[0m\n\u001b[1;32m    177\u001b[0m             \u001b[0mmethod\u001b[0m\u001b[0;34m=\u001b[0m\u001b[0mTrendReq\u001b[0m\u001b[0;34m.\u001b[0m\u001b[0mGET_METHOD\u001b[0m\u001b[0;34m,\u001b[0m\u001b[0;34m\u001b[0m\u001b[0;34m\u001b[0m\u001b[0m\n\u001b[1;32m    178\u001b[0m             \u001b[0mparams\u001b[0m\u001b[0;34m=\u001b[0m\u001b[0mself\u001b[0m\u001b[0;34m.\u001b[0m\u001b[0mtoken_payload\u001b[0m\u001b[0;34m,\u001b[0m\u001b[0;34m\u001b[0m\u001b[0;34m\u001b[0m\u001b[0m\n\u001b[0;32m--> 179\u001b[0;31m             \u001b[0mtrim_chars\u001b[0m\u001b[0;34m=\u001b[0m\u001b[0;36m4\u001b[0m\u001b[0;34m,\u001b[0m\u001b[0;34m\u001b[0m\u001b[0;34m\u001b[0m\u001b[0m\n\u001b[0m\u001b[1;32m    180\u001b[0m         )['widgets']\n\u001b[1;32m    181\u001b[0m         \u001b[0;31m# order of the json matters...\u001b[0m\u001b[0;34m\u001b[0m\u001b[0;34m\u001b[0m\u001b[0;34m\u001b[0m\u001b[0m\n",
      "\u001b[0;32m~/anaconda3/lib/python3.7/site-packages/pytrends/request.py\u001b[0m in \u001b[0;36m_get_data\u001b[0;34m(self, url, method, trim_chars, **kwargs)\u001b[0m\n\u001b[1;32m    146\u001b[0m                 \u001b[0;34m'The request failed: Google returned a '\u001b[0m\u001b[0;34m\u001b[0m\u001b[0;34m\u001b[0m\u001b[0m\n\u001b[1;32m    147\u001b[0m                 \u001b[0;34m'response with code {0}.'\u001b[0m\u001b[0;34m.\u001b[0m\u001b[0mformat\u001b[0m\u001b[0;34m(\u001b[0m\u001b[0mresponse\u001b[0m\u001b[0;34m.\u001b[0m\u001b[0mstatus_code\u001b[0m\u001b[0;34m)\u001b[0m\u001b[0;34m,\u001b[0m\u001b[0;34m\u001b[0m\u001b[0;34m\u001b[0m\u001b[0m\n\u001b[0;32m--> 148\u001b[0;31m                 response=response)\n\u001b[0m\u001b[1;32m    149\u001b[0m \u001b[0;34m\u001b[0m\u001b[0m\n\u001b[1;32m    150\u001b[0m     def build_payload(self, kw_list, cat=0, timeframe='today 5-y', geo='',\n",
      "\u001b[0;31mResponseError\u001b[0m: The request failed: Google returned a response with code 429."
     ]
    }
   ],
   "source": [
    "related_topics_monthly = pd.DataFrame()\n",
    "for i in range(len(cat_ids)):\n",
    "    print(i, cat_ids[i], cat_names[i])\n",
    "    rt_top_df, rt_rising_df = get_related_topics(cat_ids[i], total_t_frame)\n",
    "    \n",
    "    if(len(rt_top_df)==0 or len(rt_top_df)==0):\n",
    "        print(\"skipping \", cat_names[i], cat_ids[i])\n",
    "        continue\n",
    "        \n",
    "    for j in range(len(t_frames)):\n",
    "        if(i%20==0):\n",
    "            time.sleep(20)\n",
    "\n",
    "        rt_top_df, rt_rising_df = get_related_topics(cat_ids[i], timeframe=t_frames[j])\n",
    "        \n",
    "        if(len(rt_top_df)==0):\n",
    "            print(cat_names[i], \"has no top topics in\", t_frames[j])\n",
    "        if(len(rt_rising_df)==0):\n",
    "            print(cat_names[i], \"has no rising topics in\", t_frames[j])\n",
    "\n",
    "        rt_top_df.columns = [\"topic_title\", \"topic_type\", \"subject\"]\n",
    "        rt_rising_df.columns = [\"topic_title\", \"topic_type\", \"subject\"]\n",
    "\n",
    "        rt_top_df[\"related_topics\"] = \"top\"\n",
    "        rt_rising_df[\"related_topics\"] = \"rising\"\n",
    "        rt_df = rt_rising_df.append(rt_top_df)\n",
    "\n",
    "        rt_df = rt_top_df.append(rt_rising_df)\n",
    "\n",
    "        rt_df[\"geo\"] = \"PH\"\n",
    "        rt_df[\"keyword\"] = cat_names[i]\n",
    "        rt_df[\"category\"] = cat_ids[i]\n",
    "        rt_df[\"timeframe\"] = datetime.datetime.strptime(t_frames[j].split()[0], \"%Y-%m-%d\").strftime(\"%b-%Y\")\n",
    "        related_topics_monthly = related_topics_monthly.append(rt_df)"
   ]
  },
  {
   "cell_type": "code",
   "execution_count": 15,
   "metadata": {},
   "outputs": [
    {
     "data": {
      "text/html": [
       "<div>\n",
       "<style scoped>\n",
       "    .dataframe tbody tr th:only-of-type {\n",
       "        vertical-align: middle;\n",
       "    }\n",
       "\n",
       "    .dataframe tbody tr th {\n",
       "        vertical-align: top;\n",
       "    }\n",
       "\n",
       "    .dataframe thead th {\n",
       "        text-align: right;\n",
       "    }\n",
       "</style>\n",
       "<table border=\"1\" class=\"dataframe\">\n",
       "  <thead>\n",
       "    <tr style=\"text-align: right;\">\n",
       "      <th></th>\n",
       "      <th>index</th>\n",
       "      <th>topic_title</th>\n",
       "      <th>topic_type</th>\n",
       "      <th>subject</th>\n",
       "      <th>related_topics</th>\n",
       "      <th>geo</th>\n",
       "      <th>keyword</th>\n",
       "      <th>category</th>\n",
       "      <th>timeframe</th>\n",
       "    </tr>\n",
       "  </thead>\n",
       "  <tbody>\n",
       "    <tr>\n",
       "      <td>0</td>\n",
       "      <td>0</td>\n",
       "      <td>Alcoholic drink</td>\n",
       "      <td>Topic</td>\n",
       "      <td>100</td>\n",
       "      <td>top</td>\n",
       "      <td>PH</td>\n",
       "      <td>Alcoholic Beverages</td>\n",
       "      <td>277</td>\n",
       "      <td>Jan-2020</td>\n",
       "    </tr>\n",
       "    <tr>\n",
       "      <td>1</td>\n",
       "      <td>1</td>\n",
       "      <td>Meralco Bolts</td>\n",
       "      <td>Basketball team</td>\n",
       "      <td>99</td>\n",
       "      <td>top</td>\n",
       "      <td>PH</td>\n",
       "      <td>Alcoholic Beverages</td>\n",
       "      <td>277</td>\n",
       "      <td>Jan-2020</td>\n",
       "    </tr>\n",
       "    <tr>\n",
       "      <td>2</td>\n",
       "      <td>2</td>\n",
       "      <td>Beer</td>\n",
       "      <td>Alcoholic drink</td>\n",
       "      <td>98</td>\n",
       "      <td>top</td>\n",
       "      <td>PH</td>\n",
       "      <td>Alcoholic Beverages</td>\n",
       "      <td>277</td>\n",
       "      <td>Jan-2020</td>\n",
       "    </tr>\n",
       "    <tr>\n",
       "      <td>3</td>\n",
       "      <td>3</td>\n",
       "      <td>Barangay Ginebra San Miguel</td>\n",
       "      <td>Basketball team</td>\n",
       "      <td>97</td>\n",
       "      <td>top</td>\n",
       "      <td>PH</td>\n",
       "      <td>Alcoholic Beverages</td>\n",
       "      <td>277</td>\n",
       "      <td>Jan-2020</td>\n",
       "    </tr>\n",
       "    <tr>\n",
       "      <td>4</td>\n",
       "      <td>4</td>\n",
       "      <td>Wine</td>\n",
       "      <td>Alcoholic drink</td>\n",
       "      <td>73</td>\n",
       "      <td>top</td>\n",
       "      <td>PH</td>\n",
       "      <td>Alcoholic Beverages</td>\n",
       "      <td>277</td>\n",
       "      <td>Jan-2020</td>\n",
       "    </tr>\n",
       "    <tr>\n",
       "      <td>...</td>\n",
       "      <td>...</td>\n",
       "      <td>...</td>\n",
       "      <td>...</td>\n",
       "      <td>...</td>\n",
       "      <td>...</td>\n",
       "      <td>...</td>\n",
       "      <td>...</td>\n",
       "      <td>...</td>\n",
       "      <td>...</td>\n",
       "    </tr>\n",
       "    <tr>\n",
       "      <td>3034</td>\n",
       "      <td>20</td>\n",
       "      <td>Zipper</td>\n",
       "      <td>Topic</td>\n",
       "      <td>Breakout</td>\n",
       "      <td>rising</td>\n",
       "      <td>PH</td>\n",
       "      <td>Casual Apparel</td>\n",
       "      <td>984</td>\n",
       "      <td>Feb-2020</td>\n",
       "    </tr>\n",
       "    <tr>\n",
       "      <td>3035</td>\n",
       "      <td>21</td>\n",
       "      <td>Mickey Mouse</td>\n",
       "      <td>Cartoon character</td>\n",
       "      <td>Breakout</td>\n",
       "      <td>rising</td>\n",
       "      <td>PH</td>\n",
       "      <td>Casual Apparel</td>\n",
       "      <td>984</td>\n",
       "      <td>Feb-2020</td>\n",
       "    </tr>\n",
       "    <tr>\n",
       "      <td>3036</td>\n",
       "      <td>22</td>\n",
       "      <td>FUCT</td>\n",
       "      <td>Clothing</td>\n",
       "      <td>Breakout</td>\n",
       "      <td>rising</td>\n",
       "      <td>PH</td>\n",
       "      <td>Casual Apparel</td>\n",
       "      <td>984</td>\n",
       "      <td>Feb-2020</td>\n",
       "    </tr>\n",
       "    <tr>\n",
       "      <td>3037</td>\n",
       "      <td>23</td>\n",
       "      <td>Samsung</td>\n",
       "      <td>Topic</td>\n",
       "      <td>Breakout</td>\n",
       "      <td>rising</td>\n",
       "      <td>PH</td>\n",
       "      <td>Casual Apparel</td>\n",
       "      <td>984</td>\n",
       "      <td>Feb-2020</td>\n",
       "    </tr>\n",
       "    <tr>\n",
       "      <td>3038</td>\n",
       "      <td>24</td>\n",
       "      <td>Crocs</td>\n",
       "      <td>Shoe manufacturing company</td>\n",
       "      <td>Breakout</td>\n",
       "      <td>rising</td>\n",
       "      <td>PH</td>\n",
       "      <td>Casual Apparel</td>\n",
       "      <td>984</td>\n",
       "      <td>Feb-2020</td>\n",
       "    </tr>\n",
       "  </tbody>\n",
       "</table>\n",
       "<p>3039 rows × 9 columns</p>\n",
       "</div>"
      ],
      "text/plain": [
       "      index                  topic_title                  topic_type  \\\n",
       "0         0              Alcoholic drink                       Topic   \n",
       "1         1                Meralco Bolts             Basketball team   \n",
       "2         2                         Beer             Alcoholic drink   \n",
       "3         3  Barangay Ginebra San Miguel             Basketball team   \n",
       "4         4                         Wine             Alcoholic drink   \n",
       "...     ...                          ...                         ...   \n",
       "3034     20                       Zipper                       Topic   \n",
       "3035     21                 Mickey Mouse           Cartoon character   \n",
       "3036     22                         FUCT                    Clothing   \n",
       "3037     23                      Samsung                       Topic   \n",
       "3038     24                        Crocs  Shoe manufacturing company   \n",
       "\n",
       "       subject related_topics geo              keyword  category timeframe  \n",
       "0          100            top  PH  Alcoholic Beverages       277  Jan-2020  \n",
       "1           99            top  PH  Alcoholic Beverages       277  Jan-2020  \n",
       "2           98            top  PH  Alcoholic Beverages       277  Jan-2020  \n",
       "3           97            top  PH  Alcoholic Beverages       277  Jan-2020  \n",
       "4           73            top  PH  Alcoholic Beverages       277  Jan-2020  \n",
       "...        ...            ...  ..                  ...       ...       ...  \n",
       "3034  Breakout         rising  PH       Casual Apparel       984  Feb-2020  \n",
       "3035  Breakout         rising  PH       Casual Apparel       984  Feb-2020  \n",
       "3036  Breakout         rising  PH       Casual Apparel       984  Feb-2020  \n",
       "3037  Breakout         rising  PH       Casual Apparel       984  Feb-2020  \n",
       "3038  Breakout         rising  PH       Casual Apparel       984  Feb-2020  \n",
       "\n",
       "[3039 rows x 9 columns]"
      ]
     },
     "execution_count": 15,
     "metadata": {},
     "output_type": "execute_result"
    }
   ],
   "source": [
    "related_topics_monthly.reset_index()"
   ]
  },
  {
   "cell_type": "code",
   "execution_count": 16,
   "metadata": {},
   "outputs": [],
   "source": [
    "related_topics_monthly.reset_index().to_csv(\"related_topics_monthly.csv\")"
   ]
  },
  {
   "cell_type": "code",
   "execution_count": 3,
   "metadata": {},
   "outputs": [
    {
     "data": {
      "text/plain": [
       "'2020-07-23'"
      ]
     },
     "execution_count": 3,
     "metadata": {},
     "output_type": "execute_result"
    }
   ],
   "source": [
    "import datetime\n",
    "datetime.datetime.now().strftime(\"%Y-%m-%d\")"
   ]
  }
 ],
 "metadata": {
  "kernelspec": {
   "display_name": "Python 3",
   "language": "python",
   "name": "python3"
  },
  "language_info": {
   "codemirror_mode": {
    "name": "ipython",
    "version": 3
   },
   "file_extension": ".py",
   "mimetype": "text/x-python",
   "name": "python",
   "nbconvert_exporter": "python",
   "pygments_lexer": "ipython3",
   "version": "3.7.6"
  }
 },
 "nbformat": 4,
 "nbformat_minor": 4
}
